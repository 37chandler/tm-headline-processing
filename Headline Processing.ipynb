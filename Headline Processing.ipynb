{
 "cells": [
  {
   "cell_type": "markdown",
   "metadata": {},
   "source": [
    "This assignments gives you practice re-arranging text files and dealing with difficult formats. Here's the information from the assignment's README, at least at the moment: \n",
    "\n",
    "---"
   ]
  },
  {
   "cell_type": "markdown",
   "metadata": {},
   "source": [
    "# Assignment: Headline Processing\n",
    "\n",
    "This is an assignment that is eligible for completion against your contract goals. \n",
    "\n",
    "In this assignment, you'll practice reshaping a pretty messy text file. This assignment\n",
    "may end up being a decent amount of work, but assignment 2 will build on this one, so\n",
    "you'll be making an investment in two assignments. \n",
    "\n",
    "## Background\n",
    "\n",
    "In 2015 and 2016 a journalism student at UMT started capturing headlines from six \n",
    "Montana newspapers. In this assignment we'll only work with the headlines from\n",
    "the Missoulian, though you can see all of the raw materials in the Excel file \n",
    "\"Headlines Base Document.xlsx\". \n",
    "\n",
    "The student wished to analyze some of the words used by the different newspapers. But,\n",
    "as you'll see when you look at the file, the data are arranged in a way that makes\n",
    "the headlines hard to work with. In this assignment, you'll re-arrange the data. \n",
    "\n",
    "## Task\n",
    "\n",
    "You'll start with the file `missoula.txt`, which holds a copy-and-paste from the \n",
    "\"Missoulian\" sheet in the Excel file. Your goal is to create a file that looks \n",
    "like the file `missoula_clean.txt`. \n",
    "\n",
    "**Input**: The input file is arranged as a ragged table. The first row holds \n",
    "dates in a DD-MMM format. Note that dates before 01-Jan are from 2015; dates \n",
    "after 01-Jan are from 2016. The rows below a date hold the headlines from that date\n",
    "and you'll notice a varying number of headlines. \n",
    "\n",
    "**Output**: The output file is arranged as a [tidy data set](https://cran.r-project.org/web/packages/tidyr/vignettes/tidy-data.html), \n",
    "with one headline on each row. There are three columns: the newspaper, the date, and the headline. \n",
    "\n",
    "Things to think about: \n",
    "\n",
    "1. You'll need to transform dates in this DD-MMM format into a traditional YYYY-MM-DD, \n",
    "the [one true date format](https://xkcd.com/1179/). \n",
    "1. There's no way to read a file \"vertically\" in Python, so you'll need to be smart\n",
    "about associating a headline with its date. \n"
   ]
  },
  {
   "cell_type": "code",
   "execution_count": null,
   "metadata": {},
   "outputs": [],
   "source": [
    "# Your code will go here, but I'll start you off by reading in the file and looking at the first few rows of data.\n",
    "\n",
    "with open(\"missoula.txt\",'r') as infile :\n",
    "    for idx, row in enumerate(infile.readlines()) :\n",
    "        print(row)\n",
    "        if idx > 2 :\n",
    "            break\n",
    "\n"
   ]
  }
 ],
 "metadata": {
  "kernelspec": {
   "display_name": "Python 3",
   "language": "python",
   "name": "python3"
  },
  "language_info": {
   "codemirror_mode": {
    "name": "ipython",
    "version": 3
   },
   "file_extension": ".py",
   "mimetype": "text/x-python",
   "name": "python",
   "nbconvert_exporter": "python",
   "pygments_lexer": "ipython3",
   "version": "3.7.3"
  }
 },
 "nbformat": 4,
 "nbformat_minor": 4
}
